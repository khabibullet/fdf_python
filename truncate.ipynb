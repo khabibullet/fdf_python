{
  "cells": [
    {
      "cell_type": "code",
      "execution_count": 41,
      "metadata": {
        "id": "k7w0CnrQRezi"
      },
      "outputs": [],
      "source": [
        "import numpy as np\n",
        "import matplotlib.pyplot as plt\n",
        "from random import randrange"
      ]
    },
    {
      "cell_type": "code",
      "execution_count": 57,
      "metadata": {
        "colab": {
          "base_uri": "https://localhost:8080/",
          "height": 286
        },
        "id": "alyOiIAxRiJF",
        "outputId": "684cc21f-7797-4ce4-d23c-9378e49c9ef4"
      },
      "outputs": [
        {
          "data": {
            "image/png": "[encoded data removed]",
            "text/plain": [
              "<Figure size 432x288 with 1 Axes>"
            ]
          },
          "metadata": {
            "needs_background": "light"
          },
          "output_type": "display_data"
        }
      ],
      "source": [
        "win = 100\n",
        "frame = 20\n",
        "\n",
        "x3 = x1 = 16\n",
        "x4 = x2 = 87\n",
        "y3 = y1 = 13\n",
        "y4 = y2 = 40\n",
        "\n",
        "def change(x1, x2, y1, y2):\n",
        "\tif (((x1 < frame) and (x2 < frame)) or\n",
        "\t\t((x1 > win - frame) and (x2 > win - frame))):\n",
        "\t\treturn None\n",
        "\tflag = 1\n",
        "\tif (x2 is x1):\n",
        "\t\tflag = 0\n",
        "\tif (flag):\n",
        "\t\tif (x1 > x2):\n",
        "\t\t\tx1, x2 = x2, x1\n",
        "\t\t\ty1, y2 = y2, y1\n",
        "\t\tk = (y2 - y1) / (x2 - x1)\n",
        "\t\tif (x1 < frame):\n",
        "\t\t\ty1 = y1 + (frame - x1) * k\n",
        "\t\t\tx1 = frame\n",
        "\t\tif (x2 > win - frame):\n",
        "\t\t\ty2 = y2 + (win - frame - x2) * k \n",
        "\t\t\tx2 = win - frame\n",
        "\tif ((y1 < frame and y2 < frame) or (y1 > win - frame and y2 > win - frame)):\n",
        "\t\treturn None\n",
        "\tif (y1 < frame):\n",
        "\t\tx1 = x1 + (frame - y1) / k * flag\n",
        "\t\ty1 = frame\n",
        "\tif (y1 > win - frame):\n",
        "\t\tx1 = x1 + (win - frame - y1) / k * flag\n",
        "\t\ty1 = win - frame\n",
        "\tif (y2 < frame):\n",
        "\t\tx2 = x2 + (frame - y2) / k * flag\n",
        "\t\ty2 = frame\n",
        "\tif (y2 > win - frame):\n",
        "\t\tx2 = x2 + (win - frame - y2) / k * flag\n",
        "\t\ty2 = win - frame\n",
        "\treturn x1, x2, y1, y2\n",
        "\n",
        "for i in range(10):\n",
        "\tx1, x2, y1, y2 = tuple(randrange(100) for i in range(4))\n",
        "\ta = change(x1, x2, y1, y2)\n",
        "\tplt.plot([x1, x2], [y1, y2], 'k-')\n",
        "\tif (a is not None):\n",
        "\t\tplt.plot(a[0:2], a[2:4], 'r-')\n",
        "x1, x2, y1, y2 = (30, 30, 30, 60)\t\t\n",
        "a = change(x1, x2, y1, y2)\n",
        "plt.plot([x1, x2], [y1, y2], 'k-')\n",
        "if (a is not None):\n",
        "\tplt.plot(a[0:2], a[2:4], 'r-')\n",
        "x1, x2, y1, y2 = (30, 60, 30, 30)\t\n",
        "a = change(x1, x2, y1, y2)\n",
        "plt.plot([x1, x2], [y1, y2], 'k-')\n",
        "if (a is not None):\n",
        "\tplt.plot(a[0:2], a[2:4], 'r-')\t\t\n",
        "plt.plot([frame, win - frame], [frame, frame], 'k-')\n",
        "plt.plot([frame, win - frame], [win - frame, win - frame], 'k-')\n",
        "plt.plot([frame, frame], [frame, win - frame], 'k-')\n",
        "plt.plot([win - frame, win - frame], [frame, win - frame], 'k-')\n",
        "plt.axhline(win / 2)\n",
        "plt.axvline(win / 2)\n",
        "plt.xlim((0, win))\n",
        "plt.ylim((0, win))\n",
        "plt.gca().set_aspect(\"equal\")\n",
        "plt.show()\n"
      ]
    },
    {
      "cell_type": "code",
      "execution_count": null,
      "metadata": {},
      "outputs": [],
      "source": []
    }
  ],
  "metadata": {
    "colab": {
      "collapsed_sections": [],
      "name": "Untitled0.ipynb",
      "provenance": []
    },
    "kernelspec": {
      "display_name": "Python 3",
      "name": "python3"
    },
    "language_info": {
      "codemirror_mode": {
        "name": "ipython",
        "version": 3
      },
      "file_extension": ".py",
      "mimetype": "text/x-python",
      "name": "python",
      "nbconvert_exporter": "python",
      "pygments_lexer": "ipython3",
      "version": "3.9.6"
    }
  },
  "nbformat": 4,
  "nbformat_minor": 0
}
